{
 "cells": [
  {
   "cell_type": "code",
   "execution_count": 1,
   "metadata": {},
   "outputs": [
    {
     "name": "stdout",
     "output_type": "stream",
     "text": [
      "env: OMP_NUM_THREADS=1\n",
      "env: MKL_NUM_THREADS=1\n"
     ]
    }
   ],
   "source": [
    "%env OMP_NUM_THREADS=1\n",
    "%env MKL_NUM_THREADS=1\n",
    "import torch\n",
    "torch.set_num_threads(1)\n",
    "import os\n",
    "import sys\n",
    "import torch\n",
    "import torch.nn as nn\n",
    "import torch.nn.functional as F\n",
    "import numpy as np\n",
    "\n",
    "torch.backends.cuda.matmul.allow_tf32 = False\n",
    "torch.backends.cudnn.allow_tf32 = False"
   ]
  },
  {
   "cell_type": "code",
   "execution_count": 2,
   "metadata": {},
   "outputs": [],
   "source": [
    "out_features = 8192\n",
    "in_features = 8192\n",
    "in_group_size = 16\n",
    "out_group_size = 1\n",
    "num_codebooks = 4\n",
    "nbits_per_codebook = 8\n",
    "dtype = torch.float16\n",
    "device = torch.device('cpu')\n",
    "scales = torch.exp(torch.randn(out_features // out_group_size, 1, 1, 1)).to(device=device, dtype=dtype)\n",
    "codes = torch.randint(0, 2 ** nbits_per_codebook,\n",
    "                      size=(out_features // out_group_size, in_features // in_group_size, num_codebooks),\n",
    "                      dtype=torch.int32)\n",
    "codes = codes.to(dtype=torch.uint8, device=device)\n",
    "\n",
    "codebooks = torch.randn(\n",
    "    num_codebooks, 2 ** nbits_per_codebook, out_group_size, in_group_size, dtype=dtype, device=device) / 100\n",
    "\n",
    "input_vec = torch.randn(1, in_features, device=device, dtype=dtype)"
   ]
  },
  {
   "cell_type": "code",
   "execution_count": 3,
   "metadata": {},
   "outputs": [],
   "source": [
    "import torch\n",
    "dtype = torch.float32\n",
    "num_input_groups = in_features // in_group_size\n",
    "C = torch.randn(num_codebooks, 2**nbits_per_codebook, in_group_size)\n",
    "b = torch.randint(0, 2**nbits_per_codebook, \n",
    "                  size=(out_features, num_input_groups, num_codebooks), dtype=torch.uint8)\n",
    "x = torch.randn(1, in_features)/ 100\n",
    "w = torch.randn(out_features, in_features, dtype=dtype)\n"
   ]
  },
  {
   "cell_type": "code",
   "execution_count": 4,
   "metadata": {},
   "outputs": [
    {
     "name": "stdout",
     "output_type": "stream",
     "text": [
      "CPU times: user 1.15 s, sys: 0 ns, total: 1.15 s\n",
      "Wall time: 1.14 s\n"
     ]
    }
   ],
   "source": [
    "%%time\n",
    "for i in range(100):\n",
    "    y = F.linear(x, w)"
   ]
  },
  {
   "cell_type": "code",
   "execution_count": 5,
   "metadata": {},
   "outputs": [
    {
     "name": "stdout",
     "output_type": "stream",
     "text": [
      "CPU times: user 1.05 s, sys: 0 ns, total: 1.05 s\n",
      "Wall time: 1.05 s\n"
     ]
    }
   ],
   "source": [
    "%%time\n",
    "for i in range(100):\n",
    "    y = x @ w.T"
   ]
  },
  {
   "cell_type": "code",
   "execution_count": 6,
   "metadata": {},
   "outputs": [],
   "source": [
    "x_numpy = x.numpy()\n",
    "w_numpy = w.numpy()"
   ]
  },
  {
   "cell_type": "code",
   "execution_count": 7,
   "metadata": {},
   "outputs": [
    {
     "name": "stdout",
     "output_type": "stream",
     "text": [
      "CPU times: user 1.09 s, sys: 0 ns, total: 1.09 s\n",
      "Wall time: 1.09 s\n"
     ]
    }
   ],
   "source": [
    "%%time\n",
    "for i in range(100):\n",
    "    y = x_numpy @ w_numpy.T"
   ]
  },
  {
   "cell_type": "code",
   "execution_count": 8,
   "metadata": {},
   "outputs": [
    {
     "data": {
      "text/plain": [
       "torch.Size([512, 8192, 4])"
      ]
     },
     "execution_count": 8,
     "metadata": {},
     "output_type": "execute_result"
    }
   ],
   "source": [
    "b_alt = torch.permute(b, (1, 2, 0)).contiguous()\n",
    "b_alt = torch.permute(b_alt, (0, 2, 1)).contiguous()\n",
    "b_alt.shape"
   ]
  },
  {
   "cell_type": "code",
   "execution_count": 9,
   "metadata": {},
   "outputs": [
    {
     "name": "stderr",
     "output_type": "stream",
     "text": [
      "/home/black_samorez/MiniFL/.conda/lib/python3.11/site-packages/numba/core/decorators.py:282: RuntimeWarning: nopython is set for njit and is ignored\n",
      "  warnings.warn('nopython is set for njit and is ignored', RuntimeWarning)\n"
     ]
    }
   ],
   "source": [
    "import numba\n",
    "@numba.njit(nopython=True, parallel=False)\n",
    "def aqlm_gemv_lut(x, C, b_alt):\n",
    "    lut = x.reshape(-1, in_group_size) @ C.reshape(-1, in_group_size).T\n",
    "    lut = lut.reshape(-1, num_codebooks, 2**nbits_per_codebook)\n",
    "    \n",
    "    output_vec = np.zeros(in_features, dtype=x.dtype)\n",
    "    for j in range(num_input_groups):\n",
    "        for i in range(out_features):\n",
    "            for c in range(num_codebooks):\n",
    "                output_vec[i] += lut[j, c, b_alt[j, i, c]]\n",
    "    return output_vec"
   ]
  },
  {
   "cell_type": "code",
   "execution_count": 10,
   "metadata": {},
   "outputs": [],
   "source": [
    "x, C, b = x.numpy(), C.numpy(), b.numpy()\n",
    "b_alt = np.copy(b_alt)\n",
    "aqlm_gemv_lut(x, C, b_alt);"
   ]
  },
  {
   "cell_type": "code",
   "execution_count": 11,
   "metadata": {},
   "outputs": [
    {
     "name": "stdout",
     "output_type": "stream",
     "text": [
      "CPU times: user 674 ms, sys: 73 µs, total: 674 ms\n",
      "Wall time: 675 ms\n"
     ]
    }
   ],
   "source": [
    "%%time\n",
    "for i in range(100):\n",
    "    aqlm_gemv_lut(x, C, b_alt)"
   ]
  },
  {
   "cell_type": "code",
   "execution_count": 12,
   "metadata": {},
   "outputs": [
    {
     "name": "stdout",
     "output_type": "stream",
     "text": [
      "RECOMPILING\n"
     ]
    }
   ],
   "source": [
    "import cpp_kernel"
   ]
  },
  {
   "cell_type": "code",
   "execution_count": 13,
   "metadata": {},
   "outputs": [
    {
     "name": "stderr",
     "output_type": "stream",
     "text": [
      "/home/black_samorez/MiniFL/.conda/lib/python3.11/site-packages/numba/core/decorators.py:282: RuntimeWarning: nopython is set for njit and is ignored\n",
      "  warnings.warn('nopython is set for njit and is ignored', RuntimeWarning)\n"
     ]
    }
   ],
   "source": [
    "@numba.njit(nopython=True, parallel=False)\n",
    "def get_lut(x, C):\n",
    "    lut = x.reshape(-1, in_group_size) @ C.reshape(-1, in_group_size).T\n",
    "    lut = lut.reshape(-1, num_codebooks, 2**nbits_per_codebook)\n",
    "    return lut\n",
    "\n",
    "def aqlm_gemv_lut_cpp(x, C, b_alt):\n",
    "    lut = get_lut(x, C)\n",
    "    return cpp_kernel.triple_for(lut, b_alt, 1)"
   ]
  },
  {
   "cell_type": "code",
   "execution_count": 14,
   "metadata": {},
   "outputs": [
    {
     "ename": "",
     "evalue": "",
     "output_type": "error",
     "traceback": [
      "\u001b[1;31mThe Kernel crashed while executing code in the the current cell or a previous cell. Please review the code in the cell(s) to identify a possible cause of the failure. Click <a href='https://aka.ms/vscodeJupyterKernelCrash'>here</a> for more info. View Jupyter <a href='command:jupyter.viewOutput'>log</a> for further details."
     ]
    }
   ],
   "source": [
    "%%time\n",
    "for i in range(100):\n",
    "    aqlm_gemv_lut_cpp(x, C, b_alt)"
   ]
  },
  {
   "cell_type": "code",
   "execution_count": null,
   "metadata": {},
   "outputs": [
    {
     "data": {
      "text/plain": [
       "(512, 4, 8192)"
      ]
     },
     "execution_count": 15,
     "metadata": {},
     "output_type": "execute_result"
    }
   ],
   "source": [
    "b_alt.shape"
   ]
  },
  {
   "cell_type": "code",
   "execution_count": null,
   "metadata": {},
   "outputs": [],
   "source": []
  }
 ],
 "metadata": {
  "kernelspec": {
   "display_name": "Python 3 (ipykernel)",
   "language": "python",
   "name": "python3"
  },
  "language_info": {
   "codemirror_mode": {
    "name": "ipython",
    "version": 3
   },
   "file_extension": ".py",
   "mimetype": "text/x-python",
   "name": "python",
   "nbconvert_exporter": "python",
   "pygments_lexer": "ipython3",
   "version": "3.11.4"
  }
 },
 "nbformat": 4,
 "nbformat_minor": 2
}
