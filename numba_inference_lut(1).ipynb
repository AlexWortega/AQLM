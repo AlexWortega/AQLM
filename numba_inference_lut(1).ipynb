{
 "cells": [
  {
   "cell_type": "code",
   "execution_count": 1,
   "metadata": {},
   "outputs": [
    {
     "name": "stdout",
     "output_type": "stream",
     "text": [
      "env: CUDA_VISIBLE_DEVICES=7\n",
      "env: OMP_NUM_THREADS=1\n",
      "env: MKL_NUM_THREADS=1\n"
     ]
    }
   ],
   "source": [
    "%env CUDA_VISIBLE_DEVICES=7\n",
    "%env OMP_NUM_THREADS=1\n",
    "%env MKL_NUM_THREADS=1\n",
    "import torch\n",
    "torch.set_num_threads(16)\n",
    "import os\n",
    "import sys\n",
    "import torch\n",
    "import torch.nn as nn\n",
    "import torch.nn.functional as F\n",
    "import transformers\n",
    "import numpy as np\n",
    "sys.path.append('..')\n",
    "\n",
    "torch.backends.cuda.matmul.allow_tf32 = False\n",
    "torch.backends.cudnn.allow_tf32 = False\n",
    "\n",
    "import triton\n",
    "assert triton.__version__.startswith('2.1.0'), f\"found triton {triton.__version__}, want 2.1.0*\"\n",
    "import torch\n",
    "import triton.language as tl\n",
    "from triton.ops.matmul import get_configs_io_bound, early_config_prune, estimate_matmul_time\n",
    "from src.aq import _dequantize_weight"
   ]
  },
  {
   "cell_type": "code",
   "execution_count": 2,
   "metadata": {},
   "outputs": [],
   "source": [
    "out_features = 8192\n",
    "in_features = 8192\n",
    "in_group_size = 16\n",
    "out_group_size = 1\n",
    "num_codebooks = 4\n",
    "nbits_per_codebook = 8\n",
    "dtype = torch.float16\n",
    "device = torch.device('cuda')\n",
    "scales = torch.exp(torch.randn(out_features // out_group_size, 1, 1, 1)).to(device=device, dtype=dtype)\n",
    "codes = torch.randint(0, 2 ** nbits_per_codebook,\n",
    "                      size=(out_features // out_group_size, in_features // in_group_size, num_codebooks),\n",
    "                      dtype=torch.int32)\n",
    "codes = codes.to(dtype=torch.uint8, device=device)\n",
    "\n",
    "codebooks = torch.randn(\n",
    "    num_codebooks, 2 ** nbits_per_codebook, out_group_size, in_group_size, dtype=dtype, device=device) / 100\n",
    "\n",
    "input_vec = torch.randn(1, in_features, device='cuda', dtype=dtype)"
   ]
  },
  {
   "cell_type": "code",
   "execution_count": 3,
   "metadata": {},
   "outputs": [],
   "source": [
    "import torch\n",
    "dtype = torch.float32\n",
    "num_input_groups = in_features // in_group_size\n",
    "C = torch.randn(num_codebooks, 2**nbits_per_codebook, in_group_size)\n",
    "b = torch.randint(0, 2**nbits_per_codebook, \n",
    "                  size=(out_features, num_input_groups, num_codebooks), dtype=torch.uint8)\n",
    "x = torch.randn(1, in_features)/ 100\n",
    "w = torch.randn(out_features, in_features, dtype=dtype)\n"
   ]
  },
  {
   "cell_type": "code",
   "execution_count": 4,
   "metadata": {},
   "outputs": [
    {
     "name": "stdout",
     "output_type": "stream",
     "text": [
      "CPU times: user 2.43 s, sys: 5.23 ms, total: 2.43 s\n",
      "Wall time: 2.43 s\n"
     ]
    }
   ],
   "source": [
    "%%time\n",
    "for i in range(100):\n",
    "    y = F.linear(x, w)"
   ]
  },
  {
   "cell_type": "code",
   "execution_count": 5,
   "metadata": {},
   "outputs": [
    {
     "name": "stdout",
     "output_type": "stream",
     "text": [
      "CPU times: user 2.4 s, sys: 2.77 ms, total: 2.4 s\n",
      "Wall time: 2.4 s\n"
     ]
    }
   ],
   "source": [
    "%%time\n",
    "for i in range(100):\n",
    "    y = x @ w.T"
   ]
  },
  {
   "cell_type": "code",
   "execution_count": 6,
   "metadata": {},
   "outputs": [],
   "source": [
    "x_numpy = x.numpy()\n",
    "w_numpy = w.numpy()"
   ]
  },
  {
   "cell_type": "code",
   "execution_count": 7,
   "metadata": {},
   "outputs": [
    {
     "name": "stdout",
     "output_type": "stream",
     "text": [
      "CPU times: user 24.3 s, sys: 7.57 ms, total: 24.3 s\n",
      "Wall time: 24.3 s\n"
     ]
    }
   ],
   "source": [
    "%%time\n",
    "for i in range(1000):\n",
    "    y = x_numpy @ w_numpy.T"
   ]
  },
  {
   "cell_type": "code",
   "execution_count": 8,
   "metadata": {},
   "outputs": [
    {
     "data": {
      "text/plain": [
       "torch.Size([512, 4, 8192])"
      ]
     },
     "execution_count": 8,
     "metadata": {},
     "output_type": "execute_result"
    }
   ],
   "source": [
    "b_alt = torch.permute(b, (1, 2, 0)).contiguous()\n",
    "b_alt.shape"
   ]
  },
  {
   "cell_type": "code",
   "execution_count": 9,
   "metadata": {},
   "outputs": [
    {
     "name": "stderr",
     "output_type": "stream",
     "text": [
      "/home/blacksamorez/quip-sharp/.conda/lib/python3.11/site-packages/numba/core/decorators.py:282: RuntimeWarning: nopython is set for njit and is ignored\n",
      "  warnings.warn('nopython is set for njit and is ignored', RuntimeWarning)\n"
     ]
    }
   ],
   "source": [
    "import numba\n",
    "@numba.njit(nopython=True, parallel=False)\n",
    "def aqlm_gemv_lut(x, C, b_alt):\n",
    "    lut = x.reshape(-1, in_group_size) @ C.reshape(-1, in_group_size).T\n",
    "    lut = lut.reshape(-1, num_codebooks, 2**nbits_per_codebook)\n",
    "    \n",
    "    output_vec = np.zeros(in_features, dtype=x.dtype)\n",
    "    for j in range(num_input_groups):\n",
    "        for c in range(num_codebooks):\n",
    "            for i in range(out_features):\n",
    "                output_vec[i] += lut[j, c, b_alt[j, c, i]]\n",
    "    return output_vec"
   ]
  },
  {
   "cell_type": "code",
   "execution_count": 10,
   "metadata": {},
   "outputs": [],
   "source": [
    "x, C, b = x.numpy(), C.numpy(), b.numpy()\n",
    "b_alt = np.copy(b_alt)\n",
    "aqlm_gemv_lut(x, C, b_alt);"
   ]
  },
  {
   "cell_type": "code",
   "execution_count": 11,
   "metadata": {},
   "outputs": [
    {
     "name": "stdout",
     "output_type": "stream",
     "text": [
      "CPU times: user 3min 19s, sys: 68 ms, total: 3min 19s\n",
      "Wall time: 13 s\n"
     ]
    }
   ],
   "source": [
    "%%time\n",
    "for i in range(1000):\n",
    "    aqlm_gemv_lut(x, C, b_alt)"
   ]
  },
  {
   "cell_type": "code",
   "execution_count": 12,
   "metadata": {},
   "outputs": [
    {
     "name": "stdout",
     "output_type": "stream",
     "text": [
      "RECOMPILING\n"
     ]
    }
   ],
   "source": [
    "import cpp_kernel"
   ]
  },
  {
   "cell_type": "code",
   "execution_count": 13,
   "metadata": {},
   "outputs": [
    {
     "name": "stderr",
     "output_type": "stream",
     "text": [
      "/home/blacksamorez/quip-sharp/.conda/lib/python3.11/site-packages/numba/core/decorators.py:282: RuntimeWarning: nopython is set for njit and is ignored\n",
      "  warnings.warn('nopython is set for njit and is ignored', RuntimeWarning)\n"
     ]
    }
   ],
   "source": [
    "@numba.njit(nopython=True, parallel=False)\n",
    "def get_lut(x, C):\n",
    "    lut = x.reshape(-1, in_group_size) @ C.reshape(-1, in_group_size).T\n",
    "    lut = lut.reshape(-1, num_codebooks, 2**nbits_per_codebook)\n",
    "    return lut\n",
    "\n",
    "def aqlm_gemv_lut_cpp(x, C, b_alt):\n",
    "    lut = get_lut(x, C)\n",
    "    return cpp_kernel.triple_for(lut, b_alt, 1)"
   ]
  },
  {
   "cell_type": "code",
   "execution_count": 14,
   "metadata": {},
   "outputs": [
    {
     "name": "stdout",
     "output_type": "stream",
     "text": [
      "CPU times: user 3min 41s, sys: 314 ms, total: 3min 42s\n",
      "Wall time: 18.7 s\n"
     ]
    }
   ],
   "source": [
    "%%time\n",
    "for i in range(1000):\n",
    "    aqlm_gemv_lut_cpp(x, C, b_alt)"
   ]
  },
  {
   "cell_type": "code",
   "execution_count": 15,
   "metadata": {},
   "outputs": [
    {
     "data": {
      "text/plain": [
       "(512, 4, 8192)"
      ]
     },
     "execution_count": 15,
     "metadata": {},
     "output_type": "execute_result"
    }
   ],
   "source": [
    "b_alt.shape"
   ]
  },
  {
   "cell_type": "code",
   "execution_count": null,
   "metadata": {},
   "outputs": [],
   "source": []
  }
 ],
 "metadata": {
  "kernelspec": {
   "display_name": "Python 3 (ipykernel)",
   "language": "python",
   "name": "python3"
  },
  "language_info": {
   "codemirror_mode": {
    "name": "ipython",
    "version": 3
   },
   "file_extension": ".py",
   "mimetype": "text/x-python",
   "name": "python",
   "nbconvert_exporter": "python",
   "pygments_lexer": "ipython3",
   "version": "3.11.5"
  }
 },
 "nbformat": 4,
 "nbformat_minor": 2
}
