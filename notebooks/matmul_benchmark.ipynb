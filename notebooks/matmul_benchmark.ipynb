{
 "cells": [
  {
   "cell_type": "code",
   "execution_count": 1,
   "metadata": {},
   "outputs": [
    {
     "name": "stdout",
     "output_type": "stream",
     "text": [
      "env: OMP_NUM_THREADS=1\n",
      "env: MKL_NUM_THREADS=1\n"
     ]
    }
   ],
   "source": [
    "%env OMP_NUM_THREADS=1\n",
    "%env MKL_NUM_THREADS=1\n",
    "\n",
    "import aqlm\n",
    "import torch\n",
    "torch.set_num_threads(1)\n",
    "from torch import nn\n",
    "from torch.nn import functional as F"
   ]
  },
  {
   "cell_type": "code",
   "execution_count": 2,
   "metadata": {},
   "outputs": [],
   "source": [
    "num_inputs = 1\n",
    "out_features = 8192\n",
    "in_features = 8192\n",
    "out_group_size = 1\n",
    "num_out_groups = out_features // out_group_size\n",
    "in_group_size = 32\n",
    "num_in_groups = in_features // in_group_size\n",
    "num_codebooks = 8\n",
    "nbits_per_codebook = 8\n",
    "codebook_size = 2**nbits_per_codebook\n",
    "\n",
    "device = 'cpu'\n",
    "dtype = torch.float32\n",
    "\n",
    "input = torch.rand((num_inputs, in_features), dtype=dtype, device=device)\n",
    "codes = aqlm.utils.pack_int_data(\n",
    "    torch.randint(0, 2**nbits_per_codebook, size=(num_out_groups, num_in_groups, num_codebooks), dtype=torch.int32, device=device),\n",
    "    nbits_per_codebook,\n",
    ")\n",
    "\n",
    "codebooks = torch.rand((num_codebooks, codebook_size, out_group_size, in_group_size), dtype=dtype, device=device).normal_(1, 1)\n",
    "scales = torch.rand((num_out_groups, 1, 1, 1), device=device, dtype=dtype)\n",
    "\n",
    "weight = aqlm.utils._dequantize_weight(aqlm.utils.unpack_int_data(codes, nbits_per_codebook), codebooks, scales).contiguous()\n",
    "bias = None # torch.rand((out_features,), dtype=dtype, device=device)"
   ]
  },
  {
   "cell_type": "code",
   "execution_count": 3,
   "metadata": {},
   "outputs": [],
   "source": [
    "codes = torch.permute(codes, (1, 0, 2)).contiguous()"
   ]
  },
  {
   "cell_type": "code",
   "execution_count": 4,
   "metadata": {},
   "outputs": [
    {
     "name": "stdout",
     "output_type": "stream",
     "text": [
      "Compiling kernel_key=(32, 8192, 8192, 8)\n"
     ]
    },
    {
     "name": "stderr",
     "output_type": "stream",
     "text": [
      "/home/blacksamorez/AQLM/.conda/lib/python3.11/site-packages/numba/core/decorators.py:282: RuntimeWarning: nopython is set for njit and is ignored\n",
      "  warnings.warn('nopython is set for njit and is ignored', RuntimeWarning)\n"
     ]
    }
   ],
   "source": [
    "for _ in range(10):\n",
    "    _ = aqlm.inference_kernels.kernel_selector.forward_pass_quantized_linear(input, codes, codebooks, scales, bias)\n",
    "# torch.cuda.synchronize()"
   ]
  },
  {
   "cell_type": "code",
   "execution_count": 5,
   "metadata": {},
   "outputs": [
    {
     "name": "stdout",
     "output_type": "stream",
     "text": [
      "CPU times: user 864 ms, sys: 404 µs, total: 865 ms\n",
      "Wall time: 864 ms\n"
     ]
    }
   ],
   "source": [
    "%%time\n",
    "for i in range(100):\n",
    "    # torch.cuda.synchronize()\n",
    "    _ = aqlm.inference_kernels.kernel_selector.forward_pass_quantized_linear(input, codes, codebooks, scales, bias)\n",
    "# torch.cuda.synchronize()"
   ]
  },
  {
   "cell_type": "code",
   "execution_count": 6,
   "metadata": {},
   "outputs": [],
   "source": [
    "for _ in range(10):\n",
    "    _ = F.linear(input, weight, bias)\n",
    "# torch.cuda.synchronize()"
   ]
  },
  {
   "cell_type": "code",
   "execution_count": 7,
   "metadata": {},
   "outputs": [
    {
     "name": "stdout",
     "output_type": "stream",
     "text": [
      "CPU times: user 1.86 s, sys: 372 µs, total: 1.86 s\n",
      "Wall time: 1.86 s\n"
     ]
    }
   ],
   "source": [
    "%%time\n",
    "for i in range(100):\n",
    "    # torch.cuda.synchronize()\n",
    "    _ = F.linear(input, weight, bias)\n",
    "# torch.cuda.synchronize()"
   ]
  },
  {
   "cell_type": "code",
   "execution_count": null,
   "metadata": {},
   "outputs": [],
   "source": []
  },
  {
   "cell_type": "code",
   "execution_count": null,
   "metadata": {},
   "outputs": [],
   "source": []
  }
 ],
 "metadata": {
  "kernelspec": {
   "display_name": "Python 3",
   "language": "python",
   "name": "python3"
  },
  "language_info": {
   "codemirror_mode": {
    "name": "ipython",
    "version": 3
   },
   "file_extension": ".py",
   "mimetype": "text/x-python",
   "name": "python",
   "nbconvert_exporter": "python",
   "pygments_lexer": "ipython3",
   "version": "3.11.7"
  }
 },
 "nbformat": 4,
 "nbformat_minor": 2
}
