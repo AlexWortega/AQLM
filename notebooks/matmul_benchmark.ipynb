{
 "cells": [
  {
   "cell_type": "code",
   "execution_count": 1,
   "metadata": {},
   "outputs": [
    {
     "name": "stdout",
     "output_type": "stream",
     "text": [
      "env: CUDA_VISIBLE_DEVICES=4\n"
     ]
    }
   ],
   "source": [
    "%env CUDA_VISIBLE_DEVICES=4\n",
    "\n",
    "import aqlm\n",
    "import torch\n",
    "from torch import nn\n",
    "from torch.nn import functional as F"
   ]
  },
  {
   "cell_type": "code",
   "execution_count": 2,
   "metadata": {},
   "outputs": [],
   "source": [
    "num_inputs = 1\n",
    "out_features = 4096\n",
    "in_features = 4096\n",
    "out_group_size = 1\n",
    "num_out_groups = out_features // out_group_size\n",
    "in_group_size = 8\n",
    "num_in_groups = in_features // in_group_size\n",
    "num_codebooks = 1\n",
    "codebook_size = 2**16\n",
    "\n",
    "\n",
    "input = torch.rand((num_inputs, in_features), dtype=torch.float16, device='cuda')\n",
    "codes = aqlm.utils.pack_int_data(\n",
    "    torch.randint(0, 2**16, size=(num_out_groups, num_in_groups, num_codebooks), dtype=torch.int32, device='cuda'),\n",
    "    16\n",
    ")\n",
    "codebooks = torch.rand((num_codebooks, codebook_size, out_group_size, in_group_size), dtype=torch.float16, device='cuda').normal_(1, 1)\n",
    "scales = torch.rand((num_out_groups, 1, 1, 1), device='cuda').half()\n",
    "\n",
    "weight = aqlm.utils._dequantize_weight(codes, codebooks, scales)\n",
    "bias = None # torch.rand((out_features,), dtype=torch.float16, device='cuda')"
   ]
  },
  {
   "cell_type": "code",
   "execution_count": 3,
   "metadata": {},
   "outputs": [],
   "source": [
    "triton_result = aqlm.inference_kernels.triton_kernel.triton_matmul(input, codes, codebooks, scales, bias)"
   ]
  },
  {
   "cell_type": "code",
   "execution_count": 4,
   "metadata": {},
   "outputs": [],
   "source": [
    "cuda_result = aqlm.cuda.cuda_kernel.cuda_matmul(input, codes, codebooks, scales, bias)"
   ]
  },
  {
   "cell_type": "code",
   "execution_count": 5,
   "metadata": {},
   "outputs": [],
   "source": [
    "torch.testing.assert_close(triton_result, cuda_result, rtol=0.005, atol=0.005)"
   ]
  },
  {
   "cell_type": "code",
   "execution_count": 6,
   "metadata": {},
   "outputs": [],
   "source": [
    "for _ in range(100):\n",
    "    _ = aqlm.inference_kernels.triton_kernel.triton_matmul(input, codes, codebooks, scales, bias)\n",
    "torch.cuda.synchronize()"
   ]
  },
  {
   "cell_type": "code",
   "execution_count": 7,
   "metadata": {},
   "outputs": [
    {
     "name": "stdout",
     "output_type": "stream",
     "text": [
      "CPU times: user 84.6 ms, sys: 45.2 ms, total: 130 ms\n",
      "Wall time: 128 ms\n"
     ]
    }
   ],
   "source": [
    "%%time\n",
    "for i in range(1000):\n",
    "    torch.cuda.synchronize()\n",
    "    _ = aqlm.inference_kernels.triton_kernel.triton_matmul(input, codes, codebooks, scales, bias)\n",
    "torch.cuda.synchronize()"
   ]
  },
  {
   "cell_type": "code",
   "execution_count": 8,
   "metadata": {},
   "outputs": [],
   "source": [
    "for _ in range(100):\n",
    "    _ = aqlm.cuda.cuda_kernel.cuda_matmul(input, codes, codebooks, scales, bias)\n",
    "torch.cuda.synchronize()"
   ]
  },
  {
   "cell_type": "code",
   "execution_count": 9,
   "metadata": {},
   "outputs": [
    {
     "name": "stdout",
     "output_type": "stream",
     "text": [
      "CPU times: user 95.9 ms, sys: 6.64 ms, total: 103 ms\n",
      "Wall time: 101 ms\n"
     ]
    }
   ],
   "source": [
    "%%time\n",
    "for i in range(1000):\n",
    "    torch.cuda.synchronize()\n",
    "    _ = aqlm.cuda.cuda_kernel.cuda_matmul(input, codes, codebooks, scales, bias)\n",
    "torch.cuda.synchronize()"
   ]
  },
  {
   "cell_type": "code",
   "execution_count": 10,
   "metadata": {},
   "outputs": [],
   "source": [
    "for _ in range(100):\n",
    "    _ = F.linear(input, weight, bias)\n",
    "torch.cuda.synchronize()"
   ]
  },
  {
   "cell_type": "code",
   "execution_count": 11,
   "metadata": {},
   "outputs": [
    {
     "name": "stdout",
     "output_type": "stream",
     "text": [
      "CPU times: user 29.9 ms, sys: 21.8 ms, total: 51.6 ms\n",
      "Wall time: 50.5 ms\n"
     ]
    }
   ],
   "source": [
    "%%time\n",
    "for i in range(1000):\n",
    "    torch.cuda.synchronize()\n",
    "    _ = F.linear(input, weight, bias)\n",
    "torch.cuda.synchronize()"
   ]
  },
  {
   "cell_type": "code",
   "execution_count": 12,
   "metadata": {},
   "outputs": [
    {
     "name": "stderr",
     "output_type": "stream",
     "text": [
      "Using `is_flash_attn_available` is deprecated and will be removed in v4.38. Please use `is_flash_attn_2_available` instead.\n",
      "I0130 00:40:47.090702 598054 utils.py:145] Note: detected 255 virtual cores but NumExpr set to maximum of 64, check \"NUMEXPR_MAX_THREADS\" environment variable.\n",
      "I0130 00:40:47.092173 598054 utils.py:148] Note: NumExpr detected 255 cores but \"NUMEXPR_MAX_THREADS\" not set, so enforcing safe limit of 8.\n",
      "I0130 00:40:47.093024 598054 utils.py:160] NumExpr defaulting to 8 threads.\n",
      "I0130 00:40:47.257316 598054 config.py:58] PyTorch version 2.1.2 available.\n"
     ]
    },
    {
     "name": "stdout",
     "output_type": "stream",
     "text": [
      "4096 4096\n"
     ]
    }
   ],
   "source": [
    "import sys\n",
    "sys.path.append(\"/home/blacksamorez/quip-sharp\")\n",
    "from model.llama import LlamaForCausalLM\n",
    "\n",
    "llama = LlamaForCausalLM.from_pretrained(\"relaxml/Llama-2-7b-E8P-2Bit\")\n",
    "quip_linear = llama.model.layers[0].self_attn.o_proj.cuda()\n",
    "print(quip_linear.in_features, quip_linear.out_features)"
   ]
  },
  {
   "cell_type": "code",
   "execution_count": 13,
   "metadata": {},
   "outputs": [],
   "source": [
    "for _ in range(100):\n",
    "    _ = quip_linear(input)\n",
    "torch.cuda.synchronize()"
   ]
  },
  {
   "cell_type": "code",
   "execution_count": 14,
   "metadata": {},
   "outputs": [
    {
     "name": "stdout",
     "output_type": "stream",
     "text": [
      "CPU times: user 321 ms, sys: 1 s, total: 1.32 s\n",
      "Wall time: 1.37 s\n"
     ]
    }
   ],
   "source": [
    "%%time\n",
    "for i in range(1000):\n",
    "    torch.cuda.synchronize()\n",
    "    _ = quip_linear(input)\n",
    "torch.cuda.synchronize()"
   ]
  },
  {
   "cell_type": "code",
   "execution_count": null,
   "metadata": {},
   "outputs": [],
   "source": []
  }
 ],
 "metadata": {
  "kernelspec": {
   "display_name": "Python 3",
   "language": "python",
   "name": "python3"
  },
  "language_info": {
   "codemirror_mode": {
    "name": "ipython",
    "version": 3
   },
   "file_extension": ".py",
   "mimetype": "text/x-python",
   "name": "python",
   "nbconvert_exporter": "python",
   "pygments_lexer": "ipython3",
   "version": "3.11.5"
  }
 },
 "nbformat": 4,
 "nbformat_minor": 2
}
