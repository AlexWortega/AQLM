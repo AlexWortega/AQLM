{
 "cells": [
  {
   "cell_type": "code",
   "execution_count": 1,
   "metadata": {},
   "outputs": [
    {
     "name": "stdout",
     "output_type": "stream",
     "text": [
      "env: CUDA_VISIBLE_DEVICES=4\n"
     ]
    }
   ],
   "source": [
    "%env CUDA_VISIBLE_DEVICES=4\n",
    "\n",
    "import aqlm\n",
    "import torch\n",
    "from torch import nn\n",
    "from torch.nn import functional as F"
   ]
  },
  {
   "cell_type": "code",
   "execution_count": 2,
   "metadata": {},
   "outputs": [],
   "source": [
    "num_inputs = 1\n",
    "out_features = 8192\n",
    "in_features = 8192\n",
    "out_group_size = 1\n",
    "num_out_groups = out_features // out_group_size\n",
    "in_group_size = 8\n",
    "num_in_groups = in_features // in_group_size\n",
    "num_codebooks = 1\n",
    "codebook_size = 2**16\n",
    "\n",
    "\n",
    "input = torch.rand((num_inputs, in_features), dtype=torch.float16, device='cuda')\n",
    "codes = aqlm.utils.pack_int_data(\n",
    "    torch.randint(0, 2**16, size=(num_out_groups, num_in_groups, num_codebooks), dtype=torch.int32, device='cuda'),\n",
    "    16\n",
    ")\n",
    "codebooks = torch.rand((num_codebooks, codebook_size, out_group_size, in_group_size), dtype=torch.float16, device='cuda').normal_(1, 1)\n",
    "scales = torch.rand((num_out_groups, 1, 1, 1), device='cuda').half()\n",
    "\n",
    "weight = aqlm.utils._dequantize_weight(codes, codebooks, scales)\n",
    "bias = torch.rand((out_features,), dtype=torch.float16, device='cuda')"
   ]
  },
  {
   "cell_type": "code",
   "execution_count": 3,
   "metadata": {},
   "outputs": [],
   "source": [
    "triton_result = aqlm.inference_kernels.triton_kernel.triton_matmul(input, codes, codebooks, scales, bias)"
   ]
  },
  {
   "cell_type": "code",
   "execution_count": 4,
   "metadata": {},
   "outputs": [],
   "source": [
    "cuda_result = aqlm.cuda.cuda_kernel.cuda_matmul(input, codes, codebooks, scales, bias)"
   ]
  },
  {
   "cell_type": "code",
   "execution_count": 5,
   "metadata": {},
   "outputs": [],
   "source": [
    "torch.testing.assert_close(triton_result, cuda_result, rtol=0.005, atol=0.005)"
   ]
  },
  {
   "cell_type": "code",
   "execution_count": 6,
   "metadata": {},
   "outputs": [],
   "source": [
    "for _ in range(100):\n",
    "    _ = aqlm.inference_kernels.triton_kernel.triton_matmul(input, codes, codebooks, scales, bias)\n",
    "torch.cuda.synchronize()"
   ]
  },
  {
   "cell_type": "code",
   "execution_count": 7,
   "metadata": {},
   "outputs": [
    {
     "name": "stdout",
     "output_type": "stream",
     "text": [
      "CPU times: user 142 ms, sys: 97.3 ms, total: 240 ms\n",
      "Wall time: 238 ms\n"
     ]
    }
   ],
   "source": [
    "%%time\n",
    "for i in range(1000):\n",
    "    torch.cuda.synchronize()\n",
    "    _ = aqlm.inference_kernels.triton_kernel.triton_matmul(input, codes, codebooks, scales, bias)\n",
    "torch.cuda.synchronize()"
   ]
  },
  {
   "cell_type": "code",
   "execution_count": 8,
   "metadata": {},
   "outputs": [],
   "source": [
    "for _ in range(100):\n",
    "    _ = aqlm.cuda.cuda_kernel.cuda_matmul(input, codes, codebooks, scales, bias)\n",
    "torch.cuda.synchronize()"
   ]
  },
  {
   "cell_type": "code",
   "execution_count": 9,
   "metadata": {},
   "outputs": [
    {
     "name": "stdout",
     "output_type": "stream",
     "text": [
      "CPU times: user 92.1 ms, sys: 114 ms, total: 206 ms\n",
      "Wall time: 205 ms\n"
     ]
    }
   ],
   "source": [
    "%%time\n",
    "for i in range(1000):\n",
    "    torch.cuda.synchronize()\n",
    "    _ = aqlm.cuda.cuda_kernel.cuda_matmul(input, codes, codebooks, scales, bias)\n",
    "torch.cuda.synchronize()"
   ]
  },
  {
   "cell_type": "code",
   "execution_count": 10,
   "metadata": {},
   "outputs": [],
   "source": [
    "for _ in range(100):\n",
    "    _ = F.linear(input, weight, bias)\n",
    "torch.cuda.synchronize()"
   ]
  },
  {
   "cell_type": "code",
   "execution_count": 11,
   "metadata": {},
   "outputs": [
    {
     "name": "stdout",
     "output_type": "stream",
     "text": [
      "CPU times: user 46.2 ms, sys: 72.7 ms, total: 119 ms\n",
      "Wall time: 116 ms\n"
     ]
    }
   ],
   "source": [
    "%%time\n",
    "for i in range(1000):\n",
    "    torch.cuda.synchronize()\n",
    "    _ = F.linear(input, weight, bias)\n",
    "torch.cuda.synchronize()"
   ]
  },
  {
   "cell_type": "code",
   "execution_count": null,
   "metadata": {},
   "outputs": [],
   "source": []
  }
 ],
 "metadata": {
  "kernelspec": {
   "display_name": "Python 3",
   "language": "python",
   "name": "python3"
  },
  "language_info": {
   "codemirror_mode": {
    "name": "ipython",
    "version": 3
   },
   "file_extension": ".py",
   "mimetype": "text/x-python",
   "name": "python",
   "nbconvert_exporter": "python",
   "pygments_lexer": "ipython3",
   "version": "3.11.5"
  }
 },
 "nbformat": 4,
 "nbformat_minor": 2
}
